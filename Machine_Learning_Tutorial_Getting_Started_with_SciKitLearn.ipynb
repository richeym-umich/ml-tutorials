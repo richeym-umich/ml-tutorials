{
  "nbformat": 4,
  "nbformat_minor": 0,
  "metadata": {
    "colab": {
      "name": "Machine Learning Tutorial- Getting Started with SciKitLearn.ipynb",
      "provenance": [],
      "collapsed_sections": [],
      "authorship_tag": "ABX9TyN3VLcCJKRrRHjZ3o7AA0Sc",
      "include_colab_link": true
    },
    "kernelspec": {
      "name": "python3",
      "display_name": "Python 3"
    },
    "language_info": {
      "name": "python"
    }
  },
  "cells": [
    {
      "cell_type": "markdown",
      "metadata": {
        "id": "view-in-github",
        "colab_type": "text"
      },
      "source": [
        "<a href=\"https://colab.research.google.com/github/richeym-umich/ml-tutorials/blob/main/Machine_Learning_Tutorial_Getting_Started_with_SciKitLearn.ipynb\" target=\"_parent\"><img src=\"https://colab.research.google.com/assets/colab-badge.svg\" alt=\"Open In Colab\"/></a>"
      ]
    },
    {
      "cell_type": "markdown",
      "metadata": {
        "id": "wKtoCK0fecDi"
      },
      "source": [
        "SciKitLearn is an important Python package for implementing machine learning. It comes with several pre-configured algorithms, as well as some pre-trained models. To make use of the most basic SciKitLearn machine learning algorithms, the user only needs to import the required packages and load their own data. In this tutorial, we will demonstrate loading and using several pre-built machine learning algorithms. "
      ]
    },
    {
      "cell_type": "markdown",
      "metadata": {
        "id": "zXfWxvzne5BG"
      },
      "source": [
        "# Classification\n",
        "First, we will demonstrate a classification example. In a classification problem, the user is trying to answer a question, where the answer can be one of any number of categories. In this example, we will ask the question whether a baseball team should play a game based on certain weather conditions.\n",
        "\n",
        "We will load data about past games' weather and temperature conditions, as well as whether the team played the game. We will then train a classifier on this information to teach it how to make the determination of whether or not the team should play. Finally, we will test the classifier by giving it new conditions and seeing how it answers the question. \n",
        "\n",
        "We are going to use the K nearest neighbors classifier from SciKitLearn, as well as the preprocessing package to put our data in the correct format. First, we must import the necessary packages. "
      ]
    },
    {
      "cell_type": "code",
      "metadata": {
        "id": "WQSiHJREdEkC"
      },
      "source": [
        "from sklearn import preprocessing\n",
        "from sklearn.neighbors import KNeighborsClassifier"
      ],
      "execution_count": null,
      "outputs": []
    },
    {
      "cell_type": "markdown",
      "metadata": {
        "id": "vX0UC5nDgAq4"
      },
      "source": [
        "Next, we need to organize the known data into features. The following arrays represent actual weather conditions and whether or not the team played in those conditions. Weather and temperature are considered our features, while play is considered our \"target\", or answer."
      ]
    },
    {
      "cell_type": "code",
      "metadata": {
        "id": "EaXjwWDyf6ht"
      },
      "source": [
        "# Assigning features and label variables\n",
        "# First Feature\n",
        "weather=['Sunny','Sunny','Overcast','Rainy','Rainy','Rainy','Overcast','Sunny','Sunny',\n",
        "'Rainy','Sunny','Overcast','Overcast','Rainy']\n",
        "# Second Feature\n",
        "temp=['Hot','Hot','Hot','Mild','Cool','Cool','Cool','Mild','Cool','Mild','Mild','Mild','Hot','Mild']\n",
        "\n",
        "# Label or target varible\n",
        "play=['No','No','Yes','Yes','Yes','No','Yes','No','Yes','Yes','Yes','Yes','Yes','No']"
      ],
      "execution_count": null,
      "outputs": []
    },
    {
      "cell_type": "markdown",
      "metadata": {
        "id": "wNX0I0GSgGu2"
      },
      "source": [
        "Next, we need to numerically represent our data so that it can be fed as inputs to our classifier. A Label Encoder will change our string representations to numerical representations."
      ]
    },
    {
      "cell_type": "code",
      "metadata": {
        "id": "qYl3156TgEmX"
      },
      "source": [
        "#creating labelEncoder\n",
        "le = preprocessing.LabelEncoder()\n",
        "# Converting string labels into numbers.\n",
        "weather_encoded=le.fit_transform(weather)\n",
        "print(weather_encoded)"
      ],
      "execution_count": null,
      "outputs": []
    },
    {
      "cell_type": "markdown",
      "metadata": {
        "id": "fPIz2Mg5gMHJ"
      },
      "source": [
        "We convert our features and lables into numerical representations using our label encoder"
      ]
    },
    {
      "cell_type": "code",
      "metadata": {
        "id": "0uEzT08FgOrk"
      },
      "source": [
        "# converting string labels into numbers\n",
        "temp_encoded=le.fit_transform(temp)\n",
        "label=le.fit_transform(play)"
      ],
      "execution_count": null,
      "outputs": []
    },
    {
      "cell_type": "markdown",
      "metadata": {
        "id": "IuuM_4BbgS1i"
      },
      "source": [
        "Then, we combine our features into a single list. You're able to combine as many features as you'd like into your features list to contribute to the overall determination."
      ]
    },
    {
      "cell_type": "code",
      "metadata": {
        "id": "vLacWedYgUn-"
      },
      "source": [
        "#combining weather and temp into single listof tuples\n",
        "features=list(zip(weather_encoded,temp_encoded))"
      ],
      "execution_count": null,
      "outputs": []
    },
    {
      "cell_type": "markdown",
      "metadata": {
        "id": "sXDzVxL5gXFt"
      },
      "source": [
        "Now that we have our features ready, we can create our model"
      ]
    },
    {
      "cell_type": "code",
      "metadata": {
        "id": "AZ-k7B3VgbPX"
      },
      "source": [
        "model = KNeighborsClassifier(n_neighbors=3)\n",
        "\n",
        "# Train the model using the training sets\n",
        "model.fit(features,label)"
      ],
      "execution_count": null,
      "outputs": []
    },
    {
      "cell_type": "markdown",
      "metadata": {
        "id": "raE2mME8gdDW"
      },
      "source": [
        "Finally, let's try using our model to predict whether the team should play in certain conditions"
      ]
    },
    {
      "cell_type": "code",
      "metadata": {
        "id": "RQ-WHVrTghvB"
      },
      "source": [
        "predicted= model.predict([[0,2]]) # 0:Overcast, 2:Mild\n",
        "print(\"Should the team play in these conditions?: \" + str(le.inverse_transform(predicted)))"
      ],
      "execution_count": null,
      "outputs": []
    }
  ]
}