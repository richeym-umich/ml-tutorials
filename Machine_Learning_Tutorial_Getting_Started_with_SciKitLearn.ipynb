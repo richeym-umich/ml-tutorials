{
  "nbformat": 4,
  "nbformat_minor": 0,
  "metadata": {
    "colab": {
      "name": "Machine Learning Tutorial- Getting Started with SciKitLearn.ipynb",
      "provenance": [],
      "collapsed_sections": [],
      "authorship_tag": "ABX9TyMUVLM+oT581k+cLQl4mogx",
      "include_colab_link": true
    },
    "kernelspec": {
      "name": "python3",
      "display_name": "Python 3"
    },
    "language_info": {
      "name": "python"
    }
  },
  "cells": [
    {
      "cell_type": "markdown",
      "metadata": {
        "id": "view-in-github",
        "colab_type": "text"
      },
      "source": [
        "<a href=\"https://colab.research.google.com/github/richeym-umich/ml-tutorials/blob/main/Machine_Learning_Tutorial_Getting_Started_with_SciKitLearn.ipynb\" target=\"_parent\"><img src=\"https://colab.research.google.com/assets/colab-badge.svg\" alt=\"Open In Colab\"/></a>"
      ]
    },
    {
      "cell_type": "markdown",
      "metadata": {
        "id": "wKtoCK0fecDi"
      },
      "source": [
        "SciKitLearn is an important Python package for implementing machine learning. It comes with several pre-configured algorithms, as well as some pre-trained models. To make use of the most basic SciKitLearn machine learning algorithms, the user only needs to import the required packages and load their own data. In this tutorial, we will demonstrate loading and using several pre-built machine learning algorithms. "
      ]
    },
    {
      "cell_type": "markdown",
      "metadata": {
        "id": "zXfWxvzne5BG"
      },
      "source": [
        "# Classification\n",
        "First, we will demonstrate a classification example. In a classification problem, the user is trying to answer a question, where the answer can be one of any number of categories. In this example, we will ask the question whether a baseball team should play a game based on certain weather conditions.\n",
        "\n",
        "We will load data about past games' weather and temperature conditions, as well as whether the team played the game. We will then train a classifier on this information to teach it how to make the determination of whether or not the team should play. Finally, we will test the classifier by giving it new conditions and seeing how it answers the question. \n",
        "\n",
        "We are going to use the K nearest neighbors classifier from SciKitLearn, as well as the preprocessing package to put our data in the correct format. First, we must import the necessary packages. "
      ]
    },
    {
      "cell_type": "code",
      "metadata": {
        "id": "WQSiHJREdEkC"
      },
      "source": [
        "from sklearn import preprocessing\n",
        "from sklearn.neighbors import KNeighborsClassifier"
      ],
      "execution_count": null,
      "outputs": []
    },
    {
      "cell_type": "markdown",
      "metadata": {
        "id": "vX0UC5nDgAq4"
      },
      "source": [
        "Next, we need to organize the known data into features. The following arrays represent actual weather conditions and whether or not the team played in those conditions. Weather and temperature are considered our features, while play is considered our \"target\", or answer."
      ]
    },
    {
      "cell_type": "code",
      "metadata": {
        "id": "EaXjwWDyf6ht"
      },
      "source": [
        "# Assigning features and label variables\n",
        "# First Feature\n",
        "weather=['Sunny','Sunny','Overcast','Rainy','Rainy','Rainy','Overcast','Sunny','Sunny',\n",
        "'Rainy','Sunny','Overcast','Overcast','Rainy']\n",
        "# Second Feature\n",
        "temp=['Hot','Hot','Hot','Mild','Cool','Cool','Cool','Mild','Cool','Mild','Mild','Mild','Hot','Mild']\n",
        "\n",
        "# Label or target varible\n",
        "play=['No','No','Yes','Yes','Yes','No','Yes','No','Yes','Yes','Yes','Yes','Yes','No']"
      ],
      "execution_count": null,
      "outputs": []
    },
    {
      "cell_type": "markdown",
      "metadata": {
        "id": "wNX0I0GSgGu2"
      },
      "source": [
        "Next, we need to numerically represent our data so that it can be fed as inputs to our classifier. A Label Encoder will change our string representations to numerical representations."
      ]
    },
    {
      "cell_type": "code",
      "metadata": {
        "id": "qYl3156TgEmX",
        "colab": {
          "base_uri": "https://localhost:8080/"
        },
        "outputId": "f78da8d4-ed94-4f95-c5ed-d73e0cdc6327"
      },
      "source": [
        "#creating labelEncoder\n",
        "le = preprocessing.LabelEncoder()\n",
        "# Converting string labels into numbers.\n",
        "weather_encoded=le.fit_transform(weather)\n",
        "print(weather_encoded)"
      ],
      "execution_count": 3,
      "outputs": [
        {
          "output_type": "stream",
          "name": "stdout",
          "text": [
            "[2 2 0 1 1 1 0 2 2 1 2 0 0 1]\n"
          ]
        }
      ]
    },
    {
      "cell_type": "markdown",
      "metadata": {
        "id": "fPIz2Mg5gMHJ"
      },
      "source": [
        "We convert our features and lables into numerical representations using our label encoder"
      ]
    },
    {
      "cell_type": "code",
      "metadata": {
        "id": "0uEzT08FgOrk"
      },
      "source": [
        "# converting string labels into numbers\n",
        "temp_encoded=le.fit_transform(temp)\n",
        "label=le.fit_transform(play)"
      ],
      "execution_count": 4,
      "outputs": []
    },
    {
      "cell_type": "markdown",
      "metadata": {
        "id": "IuuM_4BbgS1i"
      },
      "source": [
        "Then, we combine our features into a single list. You're able to combine as many features as you'd like into your features list to contribute to the overall determination."
      ]
    },
    {
      "cell_type": "code",
      "metadata": {
        "id": "vLacWedYgUn-"
      },
      "source": [
        "#combining weather and temp into single listof tuples\n",
        "features=list(zip(weather_encoded,temp_encoded))"
      ],
      "execution_count": 5,
      "outputs": []
    },
    {
      "cell_type": "markdown",
      "metadata": {
        "id": "sXDzVxL5gXFt"
      },
      "source": [
        "Now that we have our features ready, we can create our model. We do this by instantiating a new instance of a KNeighborsClassifier, which is predifined in SciKitLearn. We specify the number of neighbors to be 3, which means that the classifier will use the 3 closest data points to make a determination on any given data point. "
      ]
    },
    {
      "cell_type": "code",
      "metadata": {
        "id": "AZ-k7B3VgbPX",
        "colab": {
          "base_uri": "https://localhost:8080/"
        },
        "outputId": "87892229-a9b5-483a-f9f2-06757ab9162d"
      },
      "source": [
        "model = KNeighborsClassifier(n_neighbors=3)\n",
        "\n",
        "# Train the model using the training sets\n",
        "model.fit(features,label)"
      ],
      "execution_count": 6,
      "outputs": [
        {
          "output_type": "execute_result",
          "data": {
            "text/plain": [
              "KNeighborsClassifier(algorithm='auto', leaf_size=30, metric='minkowski',\n",
              "                     metric_params=None, n_jobs=None, n_neighbors=3, p=2,\n",
              "                     weights='uniform')"
            ]
          },
          "metadata": {},
          "execution_count": 6
        }
      ]
    },
    {
      "cell_type": "markdown",
      "metadata": {
        "id": "raE2mME8gdDW"
      },
      "source": [
        "Finally, let's try using our model to predict whether the team should play in certain conditions"
      ]
    },
    {
      "cell_type": "code",
      "metadata": {
        "id": "RQ-WHVrTghvB",
        "colab": {
          "base_uri": "https://localhost:8080/"
        },
        "outputId": "3a21567e-d67e-4399-c4dd-6370cbc87b8e"
      },
      "source": [
        "predicted= model.predict([[0,2]]) # 0:Overcast, 2:Mild\n",
        "print(\"Should the team play in these conditions?: \" + str(le.inverse_transform(predicted)))"
      ],
      "execution_count": 12,
      "outputs": [
        {
          "output_type": "stream",
          "name": "stdout",
          "text": [
            "Should the team play in these conditions?: ['Yes']\n"
          ]
        }
      ]
    },
    {
      "cell_type": "markdown",
      "metadata": {
        "id": "wJD1MRyZzPBt"
      },
      "source": [
        "# Clustering\n",
        "Next, we'll take a look at a clustering example. Clustering in machine learning is where the algorithm determines what group a specific data point belongs to. The groups do not need to be predetermined, but the data point will have the most in common with the other data points in its own group. \n",
        "\n",
        "First we'll import the necessary libraries."
      ]
    },
    {
      "cell_type": "code",
      "metadata": {
        "id": "cv652DdT1Kgs"
      },
      "source": [
        "import numpy as np\n",
        "import pandas as pd\n",
        "from matplotlib import pyplot as plt\n",
        "from sklearn.datasets.samples_generator import make_blobs\n",
        "from sklearn.cluster import KMeans "
      ],
      "execution_count": 13,
      "outputs": []
    },
    {
      "cell_type": "markdown",
      "metadata": {
        "id": "ieMJyIn413vA"
      },
      "source": [
        "We're going to make use of the \"make_blobs\" function in SciKitLearn to generate data that can be sorted into clusters. We specify that we'd like 200 datapoints, and we place the data relatively close together so that we can try different numbers of optimal clusters. We plot this data so that we can start to visualize what we'll be working with. "
      ]
    },
    {
      "cell_type": "code",
      "metadata": {
        "colab": {
          "base_uri": "https://localhost:8080/",
          "height": 282
        },
        "id": "xdcwNVar1hfW",
        "outputId": "d166faba-401d-4d19-d601-4c7bbcaa2b4d"
      },
      "source": [
        "features, y = make_blobs(n_samples=200, cluster_std=0.8, random_state=0)\n",
        "plt.scatter(features[:,0], features[:,1])"
      ],
      "execution_count": 23,
      "outputs": [
        {
          "output_type": "execute_result",
          "data": {
            "text/plain": [
              "<matplotlib.collections.PathCollection at 0x7fbe31545810>"
            ]
          },
          "metadata": {},
          "execution_count": 23
        },
        {
          "output_type": "display_data",
          "data": {
            "image/png": "[encoded data removed]",
            "text/plain": [
              "<Figure size 432x288 with 1 Axes>"
            ]
          },
          "metadata": {
            "needs_background": "light"
          }
        }
      ]
    },
    {
      "cell_type": "markdown",
      "metadata": {
        "id": "WbGqE-5y2LQt"
      },
      "source": [
        "Next, we're going to use the elbow method to determine the optimal number of clusters into which to break our data. The elbow method involves training multiple classifiers with different numbers of clusters, and then plotting the results (the results are stored in the intertia_ variable- a lower inertia is more optimal). "
      ]
    },
    {
      "cell_type": "code",
      "metadata": {
        "colab": {
          "base_uri": "https://localhost:8080/",
          "height": 295
        },
        "id": "hhNWYBoF1sl2",
        "outputId": "90dcff9e-b292-46e3-e763-280d784cf26a"
      },
      "source": [
        "wcss = []\n",
        "for i in range(1, 11):\n",
        "    kmeans = KMeans(n_clusters=i, init='k-means++', max_iter=300, n_init=10, random_state=0)\n",
        "    kmeans.fit(features)\n",
        "    wcss.append(kmeans.inertia_)\n",
        "plt.plot(range(1, 11), wcss)\n",
        "plt.title('Elbow Method')\n",
        "plt.xlabel('Number of clusters')\n",
        "plt.ylabel('WCSS')\n",
        "plt.show()"
      ],
      "execution_count": 24,
      "outputs": [
        {
          "output_type": "display_data",
          "data": {
            "image/png": "[encoded data removed]",
            "text/plain": [
              "<Figure size 432x288 with 1 Axes>"
            ]
          },
          "metadata": {
            "needs_background": "light"
          }
        }
      ]
    },
    {
      "cell_type": "markdown",
      "metadata": {
        "id": "uG1wUGS02yjo"
      },
      "source": [
        "To determine the optimal number of clusters with the elbow method, we look at the \"elbow\" of the inertia graph; i.e. where the graph starts to bend. In this case, we can see the optimal number of clusters is 3. \n",
        "\n",
        "We'll use this information to categorize the data using the optimum number of clusters. We make use of the KMeans algorithm in SciKitLearn to predict which cluster each piece of data will fall into. "
      ]
    },
    {
      "cell_type": "code",
      "metadata": {
        "colab": {
          "base_uri": "https://localhost:8080/",
          "height": 265
        },
        "id": "EzGLem542nck",
        "outputId": "46d90892-27be-45cf-8ce5-8d0235215761"
      },
      "source": [
        "kmeans = KMeans(n_clusters=3)\n",
        "kmeans.fit(features)\n",
        "plt.scatter(features[:,0], features[:,1], c=kmeans.labels_.astype(float), s=50, alpha=0.5)\n",
        "plt.scatter(kmeans.cluster_centers_[:,0], kmeans.cluster_centers_[:,1], s=200, c='red')\n",
        "plt.show()"
      ],
      "execution_count": 28,
      "outputs": [
        {
          "output_type": "display_data",
          "data": {
            "image/png": "[encoded data removed]",
            "text/plain": [
              "<Figure size 432x288 with 1 Axes>"
            ]
          },
          "metadata": {
            "needs_background": "light"
          }
        }
      ]
    },
    {
      "cell_type": "markdown",
      "metadata": {
        "id": "eYnUptqI3eVc"
      },
      "source": [
        "As you can see, each piece of data is sorted into one of three categories. The red dots show the center of each cluster. "
      ]
    },
    {
      "cell_type": "markdown",
      "metadata": {
        "id": "5DTzQjZ8CifZ"
      },
      "source": [
        "# Random Forest\n",
        "SciKitLearn also has a Random Forest algorithm built into its pre-built algorithms. A random forest algorithm works by collecting random samples from a dataset and then constructing a decision tree for each sample. The result from each sample is then combined with all other decision trees to form a final prediction for the test sample. "
      ]
    },
    {
      "cell_type": "code",
      "metadata": {
        "id": "TIUs1kgfFo16"
      },
      "source": [
        "from sklearn import datasets\n",
        "import pandas as pd \n",
        "from sklearn.model_selection import train_test_split\n",
        "from sklearn.ensemble import RandomForestClassifier\n",
        "from sklearn import metrics \n",
        "\n",
        "iris = datasets.load_iris()"
      ],
      "execution_count": 36,
      "outputs": []
    },
    {
      "cell_type": "code",
      "metadata": {
        "colab": {
          "base_uri": "https://localhost:8080/",
          "height": 204
        },
        "id": "kRfEVF3GFyKp",
        "outputId": "c6cce966-8c4d-4519-fccd-f5cb2eacdbb2"
      },
      "source": [
        "data=pd.DataFrame({\n",
        "    'sepal length':iris.data[:,0],\n",
        "    'sepal width':iris.data[:,1],\n",
        "    'petal length':iris.data[:,2],\n",
        "    'petal width':iris.data[:,3],\n",
        "    'species':iris.target\n",
        "})\n",
        "data.head()"
      ],
      "execution_count": 37,
      "outputs": [
        {
          "output_type": "execute_result",
          "data": {
            "text/html": [
              "<div>\n",
              "<style scoped>\n",
              "    .dataframe tbody tr th:only-of-type {\n",
              "        vertical-align: middle;\n",
              "    }\n",
              "\n",
              "    .dataframe tbody tr th {\n",
              "        vertical-align: top;\n",
              "    }\n",
              "\n",
              "    .dataframe thead th {\n",
              "        text-align: right;\n",
              "    }\n",
              "</style>\n",
              "<table border=\"1\" class=\"dataframe\">\n",
              "  <thead>\n",
              "    <tr style=\"text-align: right;\">\n",
              "      <th></th>\n",
              "      <th>sepal length</th>\n",
              "      <th>sepal width</th>\n",
              "      <th>petal length</th>\n",
              "      <th>petal width</th>\n",
              "      <th>species</th>\n",
              "    </tr>\n",
              "  </thead>\n",
              "  <tbody>\n",
              "    <tr>\n",
              "      <th>0</th>\n",
              "      <td>5.1</td>\n",
              "      <td>3.5</td>\n",
              "      <td>1.4</td>\n",
              "      <td>0.2</td>\n",
              "      <td>0</td>\n",
              "    </tr>\n",
              "    <tr>\n",
              "      <th>1</th>\n",
              "      <td>4.9</td>\n",
              "      <td>3.0</td>\n",
              "      <td>1.4</td>\n",
              "      <td>0.2</td>\n",
              "      <td>0</td>\n",
              "    </tr>\n",
              "    <tr>\n",
              "      <th>2</th>\n",
              "      <td>4.7</td>\n",
              "      <td>3.2</td>\n",
              "      <td>1.3</td>\n",
              "      <td>0.2</td>\n",
              "      <td>0</td>\n",
              "    </tr>\n",
              "    <tr>\n",
              "      <th>3</th>\n",
              "      <td>4.6</td>\n",
              "      <td>3.1</td>\n",
              "      <td>1.5</td>\n",
              "      <td>0.2</td>\n",
              "      <td>0</td>\n",
              "    </tr>\n",
              "    <tr>\n",
              "      <th>4</th>\n",
              "      <td>5.0</td>\n",
              "      <td>3.6</td>\n",
              "      <td>1.4</td>\n",
              "      <td>0.2</td>\n",
              "      <td>0</td>\n",
              "    </tr>\n",
              "  </tbody>\n",
              "</table>\n",
              "</div>"
            ],
            "text/plain": [
              "   sepal length  sepal width  petal length  petal width  species\n",
              "0           5.1          3.5           1.4          0.2        0\n",
              "1           4.9          3.0           1.4          0.2        0\n",
              "2           4.7          3.2           1.3          0.2        0\n",
              "3           4.6          3.1           1.5          0.2        0\n",
              "4           5.0          3.6           1.4          0.2        0"
            ]
          },
          "metadata": {},
          "execution_count": 37
        }
      ]
    },
    {
      "cell_type": "code",
      "metadata": {
        "id": "Bc3VjbSfFyzf"
      },
      "source": [
        "features = data[['sepal length', 'sepal width', 'petal length', 'petal width']] \n",
        "y = data['species']\n",
        "features_train, features_test, y_train, y_test = train_test_split(features, y, test_size=0.3)"
      ],
      "execution_count": 38,
      "outputs": []
    },
    {
      "cell_type": "code",
      "metadata": {
        "id": "iwC4V45EGL_A"
      },
      "source": [
        "model = RandomForestClassifier(n_estimators=100)\n",
        "model.fit(features_train, y_train)\n",
        "y_pred = model.predict(features_test)"
      ],
      "execution_count": 39,
      "outputs": []
    },
    {
      "cell_type": "code",
      "metadata": {
        "colab": {
          "base_uri": "https://localhost:8080/"
        },
        "id": "7vU_xKWJGVb3",
        "outputId": "e44356de-7606-4a6c-b0d2-e3ed84296df7"
      },
      "source": [
        "print('Accuracy: ', metrics.accuracy_score(y_test, y_pred))"
      ],
      "execution_count": 40,
      "outputs": [
        {
          "output_type": "stream",
          "name": "stdout",
          "text": [
            "Accuracy:  0.9111111111111111\n"
          ]
        }
      ]
    },
    {
      "cell_type": "code",
      "metadata": {
        "colab": {
          "base_uri": "https://localhost:8080/"
        },
        "id": "qc_XaL0NGaFP",
        "outputId": "08ce8dd3-ed20-44e6-f9ab-d73f6ec2b156"
      },
      "source": [
        "# sepal length = 3\n",
        "# sepal width = 5\n",
        "# petal length = 4\n",
        "# petal width = 2\n",
        "prediction_number = model.predict([[3,5,4,2]])\n",
        "flower_name = iris.target_names[prediction_number]\n",
        "print(flower_name)"
      ],
      "execution_count": 44,
      "outputs": [
        {
          "output_type": "stream",
          "name": "stdout",
          "text": [
            "['virginica']\n"
          ]
        }
      ]
    },
    {
      "cell_type": "code",
      "metadata": {
        "id": "FN2J0ZQXGpQ3"
      },
      "source": [
        ""
      ],
      "execution_count": null,
      "outputs": []
    }
  ]
}